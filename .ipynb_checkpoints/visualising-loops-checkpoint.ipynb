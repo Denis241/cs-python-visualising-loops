{
 "cells": [
  {
   "cell_type": "markdown",
   "metadata": {},
   "source": [
    "## Python Notebooks block grid\n",
    "\n",
    "**ipythonblocks** is a module for practicing Python. It works in the IPython Notebook and gives you  a grid of colors to manipulate while practicing for loops, if statements, and other aspects of Python. It's a lot of fun!\n",
    "\n",
    "[more about module ipythonblocks here](http://www.ipythonblocks.org/)"
   ]
  },
  {
   "cell_type": "code",
   "execution_count": null,
   "metadata": {},
   "outputs": [],
   "source": [
    "# you first have to import the module - either the whole thing like this: import ipythonblocks\n",
    "# or just the BlockGrid data structure as follows:\n",
    "from ipythonblocks import BlockGrid"
   ]
  },
  {
   "cell_type": "code",
   "execution_count": 2,
   "metadata": {},
   "outputs": [
    {
     "ename": "NameError",
     "evalue": "name 'BlockGrid' is not defined",
     "output_type": "error",
     "traceback": [
      "\u001b[0;31m---------------------------------------------------------------------------\u001b[0m",
      "\u001b[0;31mNameError\u001b[0m                                 Traceback (most recent call last)",
      "\u001b[0;32m<ipython-input-2-8ac763015987>\u001b[0m in \u001b[0;36m<module>\u001b[0;34m()\u001b[0m\n\u001b[0;32m----> 1\u001b[0;31m \u001b[0mgrid\u001b[0m \u001b[0;34m=\u001b[0m \u001b[0mBlockGrid\u001b[0m\u001b[0;34m(\u001b[0m\u001b[0;36m10\u001b[0m\u001b[0;34m,\u001b[0m \u001b[0;36m10\u001b[0m\u001b[0;34m,\u001b[0m \u001b[0mfill\u001b[0m\u001b[0;34m=\u001b[0m\u001b[0;34m(\u001b[0m\u001b[0;36m123\u001b[0m\u001b[0;34m,\u001b[0m \u001b[0;36m234\u001b[0m\u001b[0;34m,\u001b[0m \u001b[0;36m123\u001b[0m\u001b[0;34m)\u001b[0m\u001b[0;34m)\u001b[0m\u001b[0;34m\u001b[0m\u001b[0m\n\u001b[0m",
      "\u001b[0;31mNameError\u001b[0m: name 'BlockGrid' is not defined"
     ]
    }
   ],
   "source": [
    "grid = BlockGrid(10, 10, fill=(123, 234, 123))"
   ]
  },
  {
   "cell_type": "code",
   "execution_count": null,
   "metadata": {},
   "outputs": [],
   "source": [
    "#draw a 15x15 grid, all blocks of the same colour\n",
    "for block in grid:\n",
    "    block.rgb = (0,0,255)\n",
    "grid"
   ]
  },
  {
   "cell_type": "markdown",
   "metadata": {},
   "source": [
    "## Exercise:\n",
    "Draw some grids in other colours.\n",
    "Here are some guidelines for RGB colours:\n",
    "[Colour picker](https://www.w3schools.com/colors/colors_picker.asp?color=80ced6)\n"
   ]
  },
  {
   "cell_type": "code",
   "execution_count": null,
   "metadata": {},
   "outputs": [],
   "source": [
    "#add your own color grid code here:\n",
    "\n",
    "\n"
   ]
  },
  {
   "cell_type": "markdown",
   "metadata": {},
   "source": [
    "## Using selection to draw or not to draw!"
   ]
  },
  {
   "cell_type": "code",
   "execution_count": null,
   "metadata": {},
   "outputs": [],
   "source": [
    "#draw a grid where even colums are white and odd columns are black\n",
    "for block in grid:\n",
    "    if block.col%2 == 0:\n",
    "        block.rgb = (0,0,0)\n",
    "    else:\n",
    "        block.rgb = (255,255,255)\n",
    "grid"
   ]
  },
  {
   "cell_type": "markdown",
   "metadata": {},
   "source": [
    "## Exercise:\n",
    "Draw a grid where every second ROW is black"
   ]
  },
  {
   "cell_type": "code",
   "execution_count": null,
   "metadata": {},
   "outputs": [],
   "source": [
    "#draw a grid where even rows are black\n",
    "# your solution here:\n"
   ]
  },
  {
   "cell_type": "markdown",
   "metadata": {},
   "source": [
    "## Exercise\n",
    "\n",
    "Draw a grid where only even rows and even columns are black (or a colour!)"
   ]
  },
  {
   "cell_type": "code",
   "execution_count": null,
   "metadata": {},
   "outputs": [],
   "source": [
    "#Draw a grid where only even rows and even columns are black (or a colour!)\n",
    "# your code here\n"
   ]
  },
  {
   "cell_type": "markdown",
   "metadata": {},
   "source": [
    "## More fun with colours!"
   ]
  },
  {
   "cell_type": "code",
   "execution_count": null,
   "metadata": {},
   "outputs": [],
   "source": [
    "#define the ada colours as RGB tuples\n",
    "adaYellow=(245,225,52)\n",
    "adaPurple=(149,96,159)\n",
    "adaGreen=(161,200,84)\n",
    "adaCoral=(236,98,113)\n",
    "adaBlue=(108,184,231)\n",
    "adaOrange=(246,131,82)\n",
    "adaBlack=(9,20,8)\n",
    "adaGrey=(134,136,140)\n",
    "adaLightGrey=(211,212,211)\n",
    "adaWhite=(255,255,255)\n",
    "#define a list of these colours\n",
    "adaColors=[adaYellow,adaPurple,adaGreen,adaBlue,adaOrange]"
   ]
  },
  {
   "cell_type": "code",
   "execution_count": null,
   "metadata": {},
   "outputs": [],
   "source": [
    "#step through the list of colours, print each one out\n",
    "for color in adaColors:\n",
    "    print(color)"
   ]
  },
  {
   "cell_type": "code",
   "execution_count": null,
   "metadata": {},
   "outputs": [],
   "source": [
    "#step thorugh a list of colours using their index numbers, print each one and its index out\n",
    "for i in range(len(adaColors)):\n",
    "    print(i, \" \", adaColors[i])"
   ]
  },
  {
   "cell_type": "code",
   "execution_count": null,
   "metadata": {},
   "outputs": [],
   "source": [
    "#define a 9x9 adaYellow grid\n",
    "grid = BlockGrid(8,8,fill=adaYellow)\n",
    "grid"
   ]
  },
  {
   "cell_type": "markdown",
   "metadata": {},
   "source": [
    "## Draw a picture with colours!"
   ]
  },
  {
   "cell_type": "code",
   "execution_count": null,
   "metadata": {},
   "outputs": [],
   "source": [
    "grid = BlockGrid(8,8,fill=adaBlue)\n",
    "grid #  (erase any problems)\n",
    "for i in range(2,6):\n",
    "    grid[0,i].rgb=adaPurple # top line\n",
    "    grid[7,i].rgb=adaPurple # right line\n",
    "    grid[i,0].rgb=adaPurple # left line\n",
    "    grid[i,7].rgb=adaPurple # bottom line\n",
    "# four corners\n",
    "grid[1,1].rgb=adaPurple \n",
    "grid[6,1].rgb=adaPurple \n",
    "grid[1,6].rgb=adaPurple \n",
    "grid[6,6].rgb=adaPurple \n",
    "#smiley face\n",
    "grid[2,2].rgb=adaPurple #eye\n",
    "grid[2,5].rgb=adaPurple #eye\n",
    "#smile\n",
    "grid[4,2].rgb=adaPurple \n",
    "grid[4,5].rgb=adaPurple \n",
    "grid[5,3].rgb=adaPurple \n",
    "grid[5,4].rgb=adaPurple \n",
    "#redraw the grid with colours\n",
    "grid"
   ]
  },
  {
   "cell_type": "markdown",
   "metadata": {},
   "source": [
    "## Draw your own bitmap image using Ada colours!\n",
    "\n",
    "hint - draw out your design on a grid\n",
    "``` python \n",
    "grid[row,column].rgb=<colour>\n",
    "```\n",
    "Try to use for loops as much as possible!"
   ]
  },
  {
   "cell_type": "code",
   "execution_count": null,
   "metadata": {},
   "outputs": [],
   "source": [
    "#your code here\n",
    "grid = BlockGrid(8,8,fill=adaCoral) # background colour\n",
    "grid #  (erase any problems)"
   ]
  },
  {
   "cell_type": "markdown",
   "metadata": {},
   "source": [
    "##  Some more advanced programming\n",
    "\n",
    "looping through colour values using the MOD (%) operator\n"
   ]
  },
  {
   "cell_type": "code",
   "execution_count": null,
   "metadata": {
    "scrolled": false
   },
   "outputs": [],
   "source": [
    "i=0\n",
    "for block in grid:\n",
    "    block.rgb = adaColors[i]\n",
    "    i=(i+1)%len(adaColors) #go to the next colour, but loop back to 0 if over 4\n",
    "grid"
   ]
  },
  {
   "cell_type": "code",
   "execution_count": null,
   "metadata": {},
   "outputs": [],
   "source": [
    "#start on a different color\n",
    "i=4\n",
    "for block in grid:\n",
    "    block.rgb = adaColors[i]\n",
    "    i=(i+2)%len(adaColors) #go forward 2 colours, but loop back to 0 if over 4\n",
    "grid"
   ]
  },
  {
   "cell_type": "code",
   "execution_count": null,
   "metadata": {},
   "outputs": [],
   "source": [
    "#count the number of blocks in the grid\n",
    "blockCount = 0\n",
    "for block in grid:\n",
    "    blockCount +=1\n",
    "print(blockCount)\n",
    "#but how may rows? (or columns?) Find the square root and also convert to an integer\n",
    "blockCount = int(blockCount**0.5)\n",
    "    \n",
    "#here is how you used for loop indices to address each block in a different way\n",
    "for row in range(blockCount):\n",
    "    for col in range(blockCount):\n",
    "        grid[row, col].rgb = adaColors[(col+row)%5]\n",
    "grid\n"
   ]
  },
  {
   "cell_type": "markdown",
   "metadata": {},
   "source": [
    "## Exercise:\n",
    "Write some code that uses the row/column indices to address different blocks\n",
    "\n"
   ]
  },
  {
   "cell_type": "code",
   "execution_count": null,
   "metadata": {},
   "outputs": [],
   "source": [
    "for row in range(blockCount):\n",
    "    for col in range(blockCount):\n",
    "        # Do something cool here with Ada Colours and row/col numbers\n",
    "        # also use if statements!\n",
    "        grid[row, col].rgb = (255,0,0)\n",
    "grid"
   ]
  }
 ],
 "metadata": {
  "kernelspec": {
   "display_name": "Python 3",
   "language": "python",
   "name": "python3"
  },
  "language_info": {
   "codemirror_mode": {
    "name": "ipython",
    "version": 3
   },
   "file_extension": ".py",
   "mimetype": "text/x-python",
   "name": "python",
   "nbconvert_exporter": "python",
   "pygments_lexer": "ipython3",
   "version": "3.6.5"
  }
 },
 "nbformat": 4,
 "nbformat_minor": 2
}
